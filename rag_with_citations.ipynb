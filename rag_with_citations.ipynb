{
 "cells": [
  {
   "cell_type": "markdown",
   "id": "05461ae7-6298-47af-bdf3-68ce3345fafa",
   "metadata": {},
   "source": [
    "### RAG and Citations using Oracle Vector Store and Cohere Command-R\n",
    "* show how to use **citations** and have **more grounded answers**"
   ]
  },
  {
   "cell_type": "code",
   "execution_count": null,
   "id": "8713f44e-9163-4d25-8bc6-64d431f32c15",
   "metadata": {},
   "outputs": [],
   "source": [
    "import logging\n",
    "from pprint import pprint\n",
    "\n",
    "import oracledb\n",
    "\n",
    "from langchain_community.vectorstores.oraclevs import OracleVS\n",
    "from langchain_community.vectorstores.utils import DistanceStrategy\n",
    "from oci_command_r_oo import OCICommandR\n",
    "\n",
    "# to compute embeddings vectors\n",
    "from langchain_community.embeddings import OCIGenAIEmbeddings\n",
    "\n",
    "from utils import load_configuration\n",
    "\n",
    "# private information\n",
    "from config_private import COMPARTMENT_ID, DB_USER, DB_PWD, DB_HOST_IP, DB_SERVICE"
   ]
  },
  {
   "cell_type": "markdown",
   "id": "6cbc2f6b-179e-48da-8533-0bb7fadb0580",
   "metadata": {},
   "source": [
    "#### Settings"
   ]
  },
  {
   "cell_type": "code",
   "execution_count": null,
   "id": "1cacc926-517c-44f8-8587-1b1b67b90d4e",
   "metadata": {},
   "outputs": [],
   "source": [
    "# Configure logging\n",
    "logger = logging.getLogger(\"ConsoleLogger\")\n",
    "\n",
    "logger.setLevel(logging.INFO)\n",
    "\n",
    "# load the config in the config.toml file\n",
    "config = load_configuration()\n",
    "\n",
    "# embeddings model: we're using OCI GenAI multilingual Cohere\n",
    "OCI_EMBED_MODEL = config[\"embeddings\"][\"oci\"][\"embed_model\"]\n",
    "EMBED_ENDPOINT = config[\"embeddings\"][\"oci\"][\"embed_endpoint\"]\n",
    "\n",
    "LLM_ENDPOINT = config[\"llm\"][\"oci\"][\"endpoint\"]\n",
    "\n",
    "# number of docs retrieved for each query\n",
    "# reduced from config to simplify output here\n",
    "TOP_K = 4\n",
    "\n",
    "# for AI Vector Search\n",
    "# to connect to DB\n",
    "# default port is 1521\n",
    "DSN = f\"{DB_HOST_IP}:1521/{DB_SERVICE}\"\n",
    "\n",
    "print(\"The complete configuration is:\")\n",
    "print()\n",
    "pprint(config)"
   ]
  },
  {
   "cell_type": "code",
   "execution_count": null,
   "id": "0219ff4d-464b-4163-85c3-47dbbe382235",
   "metadata": {},
   "outputs": [],
   "source": [
    "# utility function\n",
    "def print_metadata(v_metadata):\n",
    "    \"\"\"\n",
    "    this is the format:\n",
    "    {'source': './books/oracle-ai-vector-search-users-guide.pdf', 'page': 0}\n",
    "    \"\"\"\n",
    "    print(f\"- Source: {v_metadata['source']}, page: {v_metadata['page']}\")"
   ]
  },
  {
   "cell_type": "code",
   "execution_count": null,
   "id": "c664ea36-da21-4f17-b705-ca05bb296528",
   "metadata": {},
   "outputs": [],
   "source": [
    "# create client for Embeddings and AI Vector Search\n",
    "\n",
    "# Embed model here is needed to embed the query!\n",
    "# for embeddings we're using the extension that handles batching\n",
    "embed_model = OCIGenAIEmbeddings(\n",
    "    auth_type=\"API_KEY\",\n",
    "    model_id=OCI_EMBED_MODEL,\n",
    "    service_endpoint=EMBED_ENDPOINT,\n",
    "    compartment_id=COMPARTMENT_ID,\n",
    ")\n",
    "\n",
    "# create the Vector Store (OracleVS)\n",
    "#\n",
    "#\n",
    "try:\n",
    "    # we need to provide a connection as input to OracleVS\n",
    "    connection = oracledb.connect(user=DB_USER, password=DB_PWD, dsn=DSN)\n",
    "    logger.info(\"Connection successful!\")\n",
    "\n",
    "    # get an instance of OracleVS\n",
    "    v_store = OracleVS(\n",
    "        client=connection,\n",
    "        table_name=\"ORACLE_KNOWLEDGE\",\n",
    "        distance_strategy=DistanceStrategy.COSINE,\n",
    "        embedding_function=embed_model,\n",
    "    )\n",
    "\n",
    "except Exception as e:\n",
    "    logger.error(\"Connection failed!\")\n",
    "    logger.error(e)"
   ]
  },
  {
   "cell_type": "code",
   "execution_count": null,
   "id": "6ba61492-d3ed-480c-8b87-b7593ba99789",
   "metadata": {},
   "outputs": [],
   "source": [
    "# create a Langchain retriever from the Vector Store\n",
    "retriever = v_store.as_retriever(search_kwargs={\"k\": TOP_K})\n",
    "\n",
    "logger.info(\"Retriever created...\")"
   ]
  },
  {
   "cell_type": "markdown",
   "id": "c12b132c-d468-4478-bd57-b64592bfeea0",
   "metadata": {},
   "source": [
    "#### Set the query"
   ]
  },
  {
   "cell_type": "code",
   "execution_count": null,
   "id": "76e5124c-cf28-4965-98d7-0c9736de4778",
   "metadata": {},
   "outputs": [],
   "source": [
    "# query = \"Could you explain what is JSON Relational Duality in Oracle Database 23c?\"\n",
    "query = \"What is the VECTOR type in Oracle Database and how it is used?\""
   ]
  },
  {
   "cell_type": "markdown",
   "id": "8fc43e3f-e60d-4df2-bcb5-4297d35631d9",
   "metadata": {},
   "source": [
    "#### The semantic search using AI Vector Search"
   ]
  },
  {
   "cell_type": "code",
   "execution_count": null,
   "id": "93b7068e-e984-49e9-8c2b-c79131c713e3",
   "metadata": {},
   "outputs": [],
   "source": [
    "%%time\n",
    "# first let's test the semantic search\n",
    "\n",
    "result_docs = retriever.invoke(query)\n",
    "\n",
    "# display results\n",
    "print(\"\")\n",
    "print(\"--- Document retrieved from the knowledge base ---\")\n",
    "print()\n",
    "\n",
    "for i, doc in enumerate(result_docs):\n",
    "    print(\"-------------------------------------------\")\n",
    "    print(f\"Document n. {i+1}\")\n",
    "    print(\"\")\n",
    "    print(\"- Content:\")\n",
    "    print(doc.page_content)\n",
    "    print(\"\")\n",
    "    print_metadata(doc.metadata)\n",
    "    print(\"-------------------------------------------\")\n",
    "    print(\"\")"
   ]
  },
  {
   "cell_type": "markdown",
   "id": "13a9d691-62e7-47c0-ad9b-ed7ae3e29628",
   "metadata": {},
   "source": [
    "#### Get the answer from Cohere Command-R"
   ]
  },
  {
   "cell_type": "code",
   "execution_count": null,
   "id": "045322ea-66b8-4a35-8d37-fec4b50361df",
   "metadata": {},
   "outputs": [],
   "source": [
    "# for now, no history\n",
    "chat_history = []\n",
    "\n",
    "# Cohere wants a map\n",
    "# take the output from the AI Vector Search\n",
    "# and trasnform in a format suitable for Cohere command-r\n",
    "documents_txt = [\n",
    "    {\n",
    "        \"id\": str(i + 1),\n",
    "        \"snippet\": doc.page_content,\n",
    "        \"source\": doc.metadata[\"source\"],\n",
    "        \"page\": str(doc.metadata[\"page\"]),\n",
    "    }\n",
    "    for i, doc in enumerate(result_docs)\n",
    "]\n",
    "\n",
    "command_r_params = {\n",
    "    \"model\": \"cohere.command-r-16k\",\n",
    "    \"service_endpoint\": LLM_ENDPOINT,\n",
    "    \"compartment_id\": COMPARTMENT_ID,\n",
    "    \"max_tokens\": 1024,\n",
    "}\n",
    "# this is a custom class that wraps OCI Python SDK\n",
    "chat = OCICommandR(**command_r_params)\n",
    "\n",
    "response = chat.invoke(query=query, chat_history=[], documents=documents_txt)"
   ]
  },
  {
   "cell_type": "code",
   "execution_count": null,
   "id": "d68cb839-6321-4ccf-80d0-3daa6c21b131",
   "metadata": {},
   "outputs": [],
   "source": [
    "# have another look at the query\n",
    "query = \"What is the VECTOR type in Oracle Database and how it is used?\""
   ]
  },
  {
   "cell_type": "code",
   "execution_count": null,
   "id": "5db4f846-ebe7-4acb-a3ae-f4df6f3822f1",
   "metadata": {},
   "outputs": [],
   "source": [
    "# here we get the text of the answer\n",
    "print(f\"Query: {query}\")\n",
    "print(\"\")\n",
    "print(\"Answer:\")\n",
    "print(response.data.chat_response.text)"
   ]
  },
  {
   "cell_type": "code",
   "execution_count": null,
   "id": "f9bc46ad-1404-4490-aa6f-f28c813dea91",
   "metadata": {},
   "outputs": [],
   "source": [
    "print(f\"Document used to answer:\")\n",
    "print()\n",
    "\n",
    "for doc in response.data.chat_response.documents:\n",
    "    print(doc)\n",
    "    print(\"\")"
   ]
  },
  {
   "cell_type": "code",
   "execution_count": null,
   "id": "26313d28-911d-4b25-ac4f-590f1b9202e2",
   "metadata": {},
   "outputs": [],
   "source": [
    "print(f\"Citations:\")\n",
    "print()\n",
    "\n",
    "for citation in response.data.chat_response.citations:\n",
    "    print(citation)\n",
    "    print(\"\")"
   ]
  },
  {
   "cell_type": "code",
   "execution_count": null,
   "id": "16d3e888-4fed-43e8-abdd-83a572dd4d36",
   "metadata": {},
   "outputs": [],
   "source": []
  }
 ],
 "metadata": {
  "kernelspec": {
   "display_name": "Python 3 (ipykernel)",
   "language": "python",
   "name": "python3"
  },
  "language_info": {
   "codemirror_mode": {
    "name": "ipython",
    "version": 3
   },
   "file_extension": ".py",
   "mimetype": "text/x-python",
   "name": "python",
   "nbconvert_exporter": "python",
   "pygments_lexer": "ipython3",
   "version": "3.11.0"
  }
 },
 "nbformat": 4,
 "nbformat_minor": 5
}
