{
 "cells": [
  {
   "cell_type": "markdown",
   "id": "a97a227f-423f-49b3-a837-3d4541c40872",
   "metadata": {},
   "source": [
    "### Oracle AI Vector Search: Loading the Vector Store\n",
    "\n",
    "With this Notebook you can load your Knowledge Base in Oracle AI Vector Search \n",
    "and create and  store the Embeddings Vectors.\n",
    "\n",
    "The KB is made by a set of pdf files, stored in a directory. This NB:\n",
    "* Reads all the pdf files and splits into chunks\n",
    "* Compute the embeddings for all chunks\n",
    "* Store chunks and embeddings in **ORACLE_KNOWLEDGE** table\n",
    "\n",
    "* This demo is based on the **LangChain** integration\n",
    "* **OCI GenAI multi-lingual (Cohere) embeddings**\n",
    "* Data will be stored in a single table\n",
    "\n",
    "Afterward, you can run a similarity search and run an assistant, based on OCI GenAI."
   ]
  },
  {
   "cell_type": "code",
   "execution_count": 1,
   "id": "f64d9fd0-36d2-43bf-b59c-b25001673ebc",
   "metadata": {
    "tags": []
   },
   "outputs": [],
   "source": [
    "import logging\n",
    "from glob import glob\n",
    "from tqdm.auto import tqdm\n",
    "\n",
    "import oracledb\n",
    "\n",
    "# for loading and splitting\n",
    "from langchain_text_splitters import RecursiveCharacterTextSplitter\n",
    "from langchain_community.document_loaders import PyPDFLoader\n",
    "\n",
    "# to compute embeddings vectors\n",
    "from oci_cohere_embeddings_utils import OCIGenAIEmbeddingsWithBatch\n",
    "\n",
    "from langchain_community.vectorstores.oraclevs import OracleVS\n",
    "from langchain_community.vectorstores.utils import DistanceStrategy\n",
    "\n",
    "# private information\n",
    "from config_private import COMPARTMENT_ID, DB_USER, DB_PWD, DB_HOST_IP, DB_SERVICE"
   ]
  },
  {
   "cell_type": "markdown",
   "id": "924d39f9-d1c4-4c0f-8d1a-a9c7bc9fcbf8",
   "metadata": {},
   "source": [
    "#### Setup"
   ]
  },
  {
   "cell_type": "code",
   "execution_count": 2,
   "id": "c8da1d7c-25b0-4e7d-9d5f-ec6b1529cd0d",
   "metadata": {
    "tags": []
   },
   "outputs": [],
   "source": [
    "#\n",
    "# Some configurations\n",
    "#\n",
    "\n",
    "# directory where our Knowledge base is contained in pdf files\n",
    "BOOKS_DIR = \"./books\"\n",
    "\n",
    "CHUNK_SIZE = 1500\n",
    "CHUNK_OVERLAP = 50\n",
    "\n",
    "# embeddings model: we're OCI GenAI multilingual Cohere\n",
    "OCI_EMBED_MODEL = \"cohere.embed-multilingual-v3.0\"\n",
    "ENDPOINT = \"https://inference.generativeai.us-chicago-1.oci.oraclecloud.com\"\n",
    "\n",
    "# to connect to DB\n",
    "# if you don't change the port is 1521\n",
    "dsn = f\"{DB_HOST_IP}:1521/{DB_SERVICE}\"\n",
    "\n",
    "# for embeddings we're using the extension that handles batching\n",
    "embed_model = OCIGenAIEmbeddingsWithBatch(\n",
    "    auth_type=\"API_KEY\",\n",
    "    model_id=OCI_EMBED_MODEL,\n",
    "    service_endpoint=ENDPOINT,\n",
    "    compartment_id=COMPARTMENT_ID,\n",
    ")\n",
    "\n",
    "# Configure logging\n",
    "logger = logging.getLogger(\"ConsoleLogger\")\n",
    "\n",
    "logger.setLevel(logging.INFO)"
   ]
  },
  {
   "cell_type": "code",
   "execution_count": 3,
   "id": "0e0176c0-219b-4e74-9236-bdfeb04d6b98",
   "metadata": {},
   "outputs": [],
   "source": [
    "# helper functions\n",
    "def get_recursive_text_splitter():\n",
    "    \"\"\"\n",
    "    return a recursive text splitter\n",
    "    \"\"\"\n",
    "    text_splitter = RecursiveCharacterTextSplitter(\n",
    "        chunk_size=CHUNK_SIZE,\n",
    "        chunk_overlap=CHUNK_OVERLAP,\n",
    "        length_function=len,\n",
    "        is_separator_regex=False,\n",
    "    )\n",
    "    return text_splitter\n",
    "\n",
    "\n",
    "def load_books_and_split(books_dir) -> list:\n",
    "    \"\"\"\n",
    "    load a set of books from books_dir and split in chunks\n",
    "    \"\"\"\n",
    "    logger.info(\"Loading documents from %s...\", books_dir)\n",
    "\n",
    "    text_splitter = get_recursive_text_splitter()\n",
    "\n",
    "    books_list = sorted(glob(books_dir + \"/*.pdf\"))\n",
    "\n",
    "    logger.info(\"Loading books: \")\n",
    "    for book in books_list:\n",
    "        logger.info(\"* %s\", book)\n",
    "\n",
    "    docs = []\n",
    "\n",
    "    for book in tqdm(books_list):\n",
    "        loader = PyPDFLoader(file_path=book)\n",
    "\n",
    "        docs += loader.load_and_split(text_splitter=text_splitter)\n",
    "\n",
    "    logger.info(\"Loaded %s chunks of text...\", len(docs))\n",
    "\n",
    "    return docs"
   ]
  },
  {
   "cell_type": "code",
   "execution_count": 4,
   "id": "4ef2fd13-0ac8-4a9c-acbf-4a2174bca928",
   "metadata": {
    "tags": []
   },
   "outputs": [
    {
     "name": "stderr",
     "output_type": "stream",
     "text": [
      "2024-06-06 16:07:23,546 - INFO - There are 6 files to be loaded...\n",
      "2024-06-06 16:07:23,549 - INFO - \n",
      "2024-06-06 16:07:23,551 - INFO - ./books/Solution_Definition_LangChainRAG_2.1.pdf\n",
      "2024-06-06 16:07:23,552 - INFO - ./books/database-concepts.pdf\n",
      "2024-06-06 16:07:23,553 - INFO - ./books/database-security-assessment-tool-user-guide_3.1.pdf\n",
      "2024-06-06 16:07:23,553 - INFO - ./books/high-availability-23c.pdf\n",
      "2024-06-06 16:07:23,554 - INFO - ./books/oracle-ai-vector-search-users-guide.pdf\n",
      "2024-06-06 16:07:23,555 - INFO - ./books/oracle-database-23c-new-features-guide.pdf\n"
     ]
    }
   ],
   "source": [
    "# this is the file list containing the Knowledge base\n",
    "file_list = sorted(glob(BOOKS_DIR + \"/\" + \"*.pdf\"))\n",
    "\n",
    "logger.info(f\"There are {len(file_list)} files to be loaded...\")\n",
    "logger.info(\"\")\n",
    "for f_name in file_list:\n",
    "    logger.info(f_name)"
   ]
  },
  {
   "cell_type": "markdown",
   "id": "3801e226-e346-4836-b35a-94e15d28e695",
   "metadata": {},
   "source": [
    "#### Load all files and then splits in chunks"
   ]
  },
  {
   "cell_type": "code",
   "execution_count": 5,
   "id": "fed75fb1-b97d-459f-87dd-6b5e2bb34f36",
   "metadata": {},
   "outputs": [
    {
     "name": "stderr",
     "output_type": "stream",
     "text": [
      "2024-06-06 16:07:51,201 - INFO - Loading documents from ./books...\n",
      "2024-06-06 16:07:51,202 - INFO - Loading books: \n",
      "2024-06-06 16:07:51,205 - INFO - * ./books/Solution_Definition_LangChainRAG_2.1.pdf\n",
      "2024-06-06 16:07:51,207 - INFO - * ./books/database-concepts.pdf\n",
      "2024-06-06 16:07:51,208 - INFO - * ./books/database-security-assessment-tool-user-guide_3.1.pdf\n",
      "2024-06-06 16:07:51,208 - INFO - * ./books/high-availability-23c.pdf\n",
      "2024-06-06 16:07:51,209 - INFO - * ./books/oracle-ai-vector-search-users-guide.pdf\n",
      "2024-06-06 16:07:51,210 - INFO - * ./books/oracle-database-23c-new-features-guide.pdf\n"
     ]
    },
    {
     "data": {
      "application/vnd.jupyter.widget-view+json": {
       "model_id": "395b2fea26654d0c9b3805b234500f86",
       "version_major": 2,
       "version_minor": 0
      },
      "text/plain": [
       "  0%|          | 0/6 [00:00<?, ?it/s]"
      ]
     },
     "metadata": {},
     "output_type": "display_data"
    },
    {
     "name": "stderr",
     "output_type": "stream",
     "text": [
      "2024-06-06 16:08:06,713 - INFO - Loaded 3332 chunks of text...\n"
     ]
    }
   ],
   "source": [
    "docs = load_books_and_split(BOOKS_DIR)"
   ]
  },
  {
   "cell_type": "markdown",
   "id": "518a854c-ba3b-4db3-99d0-ce2e4d5ff8db",
   "metadata": {},
   "source": [
    "#### Vector Store and load vectors + embeddings in the DB"
   ]
  },
  {
   "cell_type": "code",
   "execution_count": 6,
   "id": "c2def960-aa5e-46e9-9ded-51967cffd736",
   "metadata": {},
   "outputs": [
    {
     "name": "stderr",
     "output_type": "stream",
     "text": [
      "2024-06-06 16:08:15,018 - INFO - Connection successful!\n",
      "2024-06-06 16:08:15,020 - INFO - Loading in OracleVS...\n"
     ]
    },
    {
     "data": {
      "application/vnd.jupyter.widget-view+json": {
       "model_id": "435cee5677e049248fc4251afcf005ab",
       "version_major": 2,
       "version_minor": 0
      },
      "text/plain": [
       "  0%|          | 0/38 [00:00<?, ?it/s]"
      ]
     },
     "metadata": {},
     "output_type": "display_data"
    },
    {
     "name": "stderr",
     "output_type": "stream",
     "text": [
      "2024-06-06 16:09:16,046 - INFO - Loading completed!\n"
     ]
    }
   ],
   "source": [
    "try:\n",
    "    # we need to provide a connection as input to OracleVS\n",
    "    connection = oracledb.connect(user=DB_USER, password=DB_PWD, dsn=dsn)\n",
    "    logger.info(\"Connection successful!\")\n",
    "\n",
    "    # here we are loading all the texts and embeddings\n",
    "    logger.info(\"Loading in OracleVS...\")\n",
    "\n",
    "    v_store = OracleVS.from_documents(\n",
    "        docs,\n",
    "        embed_model,\n",
    "        client=connection,\n",
    "        table_name=\"ORACLE_KNOWLEDGE\",\n",
    "        distance_strategy=DistanceStrategy.COSINE,\n",
    "    )\n",
    "\n",
    "    logger.info(\"Loading completed!\")\n",
    "\n",
    "except Exception as e:\n",
    "    logger.error(\"Connection failed!\")\n",
    "    logger.error(e)"
   ]
  },
  {
   "cell_type": "markdown",
   "id": "7333cb53-74db-4928-9d40-9bf046d6a7f6",
   "metadata": {},
   "source": [
    "#### Do a query for test"
   ]
  },
  {
   "cell_type": "code",
   "execution_count": 7,
   "id": "c9553485-4cfa-4da3-89b2-f8431206b3f6",
   "metadata": {
    "tags": []
   },
   "outputs": [
    {
     "name": "stderr",
     "output_type": "stream",
     "text": [
      "2024-06-06 16:09:21,416 - INFO - Connection successful!\n",
      "2024-06-06 16:09:21,741 - INFO - Retriever created...\n"
     ]
    }
   ],
   "source": [
    "# k is the number of docs we want to retrieve\n",
    "try:\n",
    "    connection = oracledb.connect(user=DB_USER, password=DB_PWD, dsn=dsn)\n",
    "    logger.info(\"Connection successful!\")\n",
    "\n",
    "    # get again an instance of OracleVS\n",
    "    v_store = OracleVS(\n",
    "        client=connection,\n",
    "        table_name=\"ORACLE_KNOWLEDGE\",\n",
    "        distance_strategy=DistanceStrategy.COSINE,\n",
    "        embedding_function=embed_model,\n",
    "    )\n",
    "\n",
    "    retriever = v_store.as_retriever(search_kwargs={\"k\": 6})\n",
    "\n",
    "    logger.info(\"Retriever created...\")\n",
    "\n",
    "except Exception as e:\n",
    "    logger.error(\"Connection failed!\")\n",
    "    logger.error(e)"
   ]
  },
  {
   "cell_type": "code",
   "execution_count": 8,
   "id": "d62e60a8-114f-4377-bcca-aeaa93c2b2bb",
   "metadata": {
    "tags": []
   },
   "outputs": [],
   "source": [
    "question = \"What is the purpose for the SDD document for LangChain?\"\n",
    "\n",
    "result_docs = retriever.invoke(question)"
   ]
  },
  {
   "cell_type": "code",
   "execution_count": 9,
   "id": "c960e460-3182-4586-9cec-2e83870ffbc0",
   "metadata": {
    "tags": []
   },
   "outputs": [
    {
     "name": "stdout",
     "output_type": "stream",
     "text": [
      "Document Control  \n",
      "Copyright @202 4, Oracle and/or its affiliates  \n",
      " Page 4 \n",
      "Document Control  \n",
      "1.1 Version Control  \n",
      "Version  Authors  Date  Comments  \n",
      "1.0 Martijn de \n",
      "Grunt  \n",
      "Emir Özdel  03 April  \n",
      "2024 Created a new Solution Definition document. To be used for iterative review and \n",
      "improvement.  \n",
      "1.1 Martijn de \n",
      "Grunt  08 April \n",
      "2024  Added Project Scope, Title,  and Business Context  \n",
      "1.2 Emir Özdel  08 April \n",
      "2024  Minor changes  \n",
      "1.3 \n",
      " Martijn de \n",
      "Grunt  08 April \n",
      "2024  Naming convention LangChain RAG instead of Custom RAG  \n",
      " \n",
      "1.4 Emir Özdel  08 April \n",
      "2024  Further Refinements and Instructions page with the new name convention is \n",
      "updated.  \n",
      " \n",
      "1.5 Emir Özdel  17 April \n",
      "2024  The readability is increased, some corrections are made.  \n",
      "2.0 Emir Özdel 19 April \n",
      "2024  Some important changes are made in the document, improve the step -by-step  \n",
      "guide for a better readability. Added more context  \n",
      "2.1 Emir Özdel 26 April \n",
      "2024 Based on the feedback, some unclear points are clarified and some adjustments are \n",
      "made.  \n",
      "1.2 Team  \n",
      "Name  Email  Role  Company  \n",
      "Martijn de Grunt  martijn.de.grunt@oracle.com  Specialist Generative AI & AI Service s Oracle  \n",
      "Emir Özdel  emir.ozdel@oracle.com  Generative AI Specialist  Oracle  \n",
      "1.3 Document Purpose  \n",
      "This document provides a high -level solution definition for the LangChain RAG project . Its purpose is to describe the overall \n",
      "requirements and desired architecture for the solution.\n",
      "{'source': './books/Solution_Definition_LangChainRAG_2.1.pdf', 'page': 3}\n",
      "----------------------------\n",
      "\n",
      "These components, when integrated and configured properly using LangChain, will form a fully functional RAG system on  \n",
      "OCI. The LLM will be leveraged for its natural language processing capabilities, while the knowledge will be sourced \n",
      "exclusively from the documents stored in the pre -selected vector store. LangChain will play a crucial role in connecting the \n",
      "various compo nents and enabling the development of a cohesive conversational AI application.  \n",
      "The specific implementation details and configurations will be determined based on the project requirements and best \n",
      "practices for OCI and LangChain. The pre -selected vector st ore will be integrated seamlessly into the system architecture to \n",
      "ensure efficient storage and retrieval of document vectors.  \n",
      "2.2.5  High Availability and Disaster Recovery Requirements  \n",
      "To ensure continuous access to the LangChain  RAG on OCI, it is recommended to  design the system with high availability as a \n",
      "key objective. By incorporating redundant components and minimizing single points of failure, the architecture can enhance \n",
      "the system's resilience.  Consider the following measures to improve high availability:  \n",
      "2.2.5.1  Compute Instance Redundancy:  \n",
      "Deploy critical components across multiple OCI Compute Instances, distributed across different availability domains within an  \n",
      "OCI region.  \n",
      "2.2.5.2  Load Balancing:  \n",
      "Utilize OCI Load Balancer to distribute incoming traffic across the redu ndant compute instances, maintaining system\n",
      "{'source': './books/Solution_Definition_LangChainRAG_2.1.pdf', 'page': 5}\n",
      "----------------------------\n",
      "\n",
      "• Be able to do tests  and evaluate.  \n",
      "• Provide input on a next step on bringing solution to production.  \n",
      "3.2 Workplan  \n",
      "3.2.1 Deliverables  \n",
      "- This Solution Definition Document including the installation manual of the image.  \n",
      "- Installed imaged on OCI.  \n",
      "- Input document for next steps / bringing to production.  \n",
      "3.2.2  Inclu ded Activities  \n",
      "Deepdive LangChain RAG + Installation  \n",
      "• Explain the architecture of the LangChain RAG  \n",
      "• Explain the steps to get the LangChain RAG to work.  \n",
      "• Share the imagelink to download.  \n",
      "• Share the latest instructions to download.  \n",
      "• Share the instructions to integratie LangChain RAG with other application.   \n",
      " \n",
      "Evaluation  of Test\n",
      "{'source': './books/Solution_Definition_LangChainRAG_2.1.pdf', 'page': 12}\n",
      "----------------------------\n",
      "\n",
      "Storage:   OCI Object Storage:  1 x Standard storage bucket for storing the knowledge repository and data assets . \n",
      "Networking :  OCI Virtual Cloud Network (VCN):  1 x VCN with appropriate subnets and security lists  \n",
      "Language Model:  1 x Large Language Model (LLM) (e.g., Cohere, Meta, or Custom -trained)  \n",
      "This bill of materials outlines the essential components required for a basic LangChain  RAG application deployed on OCI and \n",
      "utilizing a single Large Language Model (LLM).  \n",
      "The components include:  \n",
      "- A single compute instance for document processing, context generation, and hosting the application.  \n",
      "- An object storage bucket for st oring the knowledge repository and data assets.  \n",
      "- A Virtual Cloud Network (VCN) for networking and security.  \n",
      "- One Large Language Model (LLM), which can be selected from options such as Cohere, Meta, or a custom -trained \n",
      "model, based on the specific requirement s and preferences of the project.  \n",
      "When choosing the LLM, consider factors such as the desired natural language processing capabilities, the size and domain of \n",
      "the training data, and the associated costs. It's crucial to assess the strengths and limitations  of each option and select the one \n",
      "that best aligns with your project requirements and budget.  \n",
      "To ensure optimal performance, scalability, and cost -effectiveness while meeting your specific needs and delivering a\n",
      "{'source': './books/Solution_Definition_LangChainRAG_2.1.pdf', 'page': 11}\n",
      "----------------------------\n",
      "\n",
      "A Comprehensive Guide to Setting Up LangChain RAG on Oracle Cloud Infrastructure  ................................ ................................ .... 21\n",
      "{'source': './books/Solution_Definition_LangChainRAG_2.1.pdf', 'page': 2}\n",
      "----------------------------\n",
      "\n",
      "Introduction to Data Concurrency and Consistency\n",
      "12-5\n",
      "{'source': './books/database-concepts.pdf', 'page': 319}\n",
      "----------------------------\n",
      "\n"
     ]
    }
   ],
   "source": [
    "# display results\n",
    "\n",
    "for doc in result_docs:\n",
    "    print(doc.page_content)\n",
    "    print(doc.metadata)\n",
    "    print(\"----------------------------\")\n",
    "    print(\"\")"
   ]
  },
  {
   "cell_type": "code",
   "execution_count": null,
   "id": "1f105a80-3cc3-4c2c-8676-163f31a98252",
   "metadata": {},
   "outputs": [],
   "source": []
  }
 ],
 "metadata": {
  "kernelspec": {
   "display_name": "Python 3 (ipykernel)",
   "language": "python",
   "name": "python3"
  },
  "language_info": {
   "codemirror_mode": {
    "name": "ipython",
    "version": 3
   },
   "file_extension": ".py",
   "mimetype": "text/x-python",
   "name": "python",
   "nbconvert_exporter": "python",
   "pygments_lexer": "ipython3",
   "version": "3.11.0"
  }
 },
 "nbformat": 4,
 "nbformat_minor": 5
}
